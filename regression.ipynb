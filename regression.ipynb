{
 "cells": [
  {
   "cell_type": "markdown",
   "metadata": {},
   "source": [
    "# LINEAR REGRESSION"
   ]
  },
  {
   "cell_type": "code",
   "execution_count": 2,
   "metadata": {
    "collapsed": true
   },
   "outputs": [],
   "source": [
    "from numpy import*\n",
    "def Linear():\n",
    "    init_b=0\n",
    "    init_m=0\n",
    "    point=genfromtext('data.csv', delimiter= \",\")\n",
    "    error(point,init_b,init_m)\n",
    "    leaning_rate=0.001  # rate of magnitude "
   ]
  },
  {
   "cell_type": "code",
   "execution_count": 3,
   "metadata": {
    "collapsed": true
   },
   "outputs": [],
   "source": [
    "def error(points,b,m):\n",
    "    totalerror=0\n",
    "    for i in range(len(points)):\n",
    "        x=points[i,0]\n",
    "        y=points[i,1]\n",
    "        totalerror+= (y-(m*x+b))**2\n",
    "    return totalerror/len(points)\n",
    "        "
   ]
  },
  {
   "cell_type": "code",
   "execution_count": 4,
   "metadata": {
    "collapsed": true
   },
   "outputs": [],
   "source": [
    "def partial_b(points,b,m):\n",
    "    s=0\n",
    "    for i in range(len(points)):\n",
    "        s+=2*(points[i,1]-(m*points[i,0]+b))(-points[i,0])\n",
    "    return s/len(points)"
   ]
  },
  {
   "cell_type": "code",
   "execution_count": null,
   "metadata": {
    "collapsed": true
   },
   "outputs": [],
   "source": [
    "def partial_m(points,b,m):\n",
    "    s=0\n",
    "    for i in range(len(points)):\n",
    "         s+=2*(points[i,1]-(m*points[i,0]+b))*(-1)\n",
    "    return s/len(points)\n",
    "        "
   ]
  }
 ],
 "metadata": {
  "kernelspec": {
   "display_name": "Python 3",
   "language": "python",
   "name": "python3"
  },
  "language_info": {
   "codemirror_mode": {
    "name": "ipython",
    "version": 3
   },
   "file_extension": ".py",
   "mimetype": "text/x-python",
   "name": "python",
   "nbconvert_exporter": "python",
   "pygments_lexer": "ipython3",
   "version": "3.6.1"
  }
 },
 "nbformat": 4,
 "nbformat_minor": 2
}
